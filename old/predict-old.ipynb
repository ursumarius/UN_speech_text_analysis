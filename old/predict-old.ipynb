{
 "cells": [
  {
   "cell_type": "markdown",
   "id": "e6156596",
   "metadata": {},
   "source": [
    "# Child Mortality Prediction Notebook\n",
    "\n",
    "This notebook covers the full workflow:\n",
    "1. **Data ingestion**\n",
    "2. **Inspection for NaN and usable years**\n",
    "3. **Large timeframe prediction (1990–2023)** with robust scaling and country weights\n",
    "4. **Detailed predictions (1990–2005)** for World Bank income Groups 2 (Lower-middle) and 3 (Upper-middle), core vs education-inclusive predictors\n",
    "\n",
    "All models use 5-fold cross-validation and report R², RMSE, MAE, and MAPE."
   ]
  },
  {
   "cell_type": "markdown",
   "id": "f669c1e5",
   "metadata": {},
   "source": [
    "## Setup & Imports"
   ]
  },
  {
   "cell_type": "code",
   "execution_count": 1,
   "id": "f42a4e09",
   "metadata": {},
   "outputs": [],
   "source": [
    "\n",
    "import pandas as pd\n",
    "import numpy as np\n",
    "import os\n",
    "\n",
    "from sklearn.model_selection import KFold, GridSearchCV, cross_val_score\n",
    "from sklearn.preprocessing import RobustScaler\n",
    "from sklearn.pipeline import Pipeline\n",
    "from sklearn.linear_model import LinearRegression, Ridge, Lasso\n",
    "from sklearn.ensemble import RandomForestRegressor\n",
    "from sklearn.metrics import make_scorer, r2_score, mean_squared_error, mean_absolute_error\n"
   ]
  },
  {
   "cell_type": "markdown",
   "id": "00ee71d4",
   "metadata": {},
   "source": [
    "## Data Ingestion"
   ]
  },
  {
   "cell_type": "code",
   "execution_count": 5,
   "id": "fea2f7cd",
   "metadata": {},
   "outputs": [
    {
     "name": "stdout",
     "output_type": "stream",
     "text": [
      "All source CSV files located.\n"
     ]
    }
   ],
   "source": [
    "import pandas as pd\n",
    "import os\n",
    "\n",
    "# Robust relative path builder\n",
    "def data_path(*parts):\n",
    "    return os.path.join('.', 'numerical-data', *parts)\n",
    "\n",
    "paths = {\n",
    "    'mortality': data_path('child-mortality-by-income-level-of-country', 'child-mortality-by-income-level-of-country.csv'),\n",
    "    'health_exp': data_path('public-health-expenditure-share-gdp', 'public-health-expenditure-share-gdp.csv'),\n",
    "    # Both 'electricity-access' and 'access-to-electricity' exist; choose one consistently (electricity-access)\n",
    "    'electricity_gdp': data_path('electricity-access', 'access-to-electricity-vs-gdp-per-capita.csv'),\n",
    "    'fertility': data_path('fertility-rate-vs-share-of-women-between-25-and-29-years-old-with-no-education', 'fertility-rate-vs-share-of-women-between-25-and-29-years-old-with-no-education.csv')\n",
    "}\n",
    "\n",
    "missing = [k for k,p in paths.items() if not os.path.exists(p)]\n",
    "if missing:\n",
    "    print('Warning: some files not found:', {k: paths[k] for k in missing})\n",
    "else:\n",
    "    print('All source CSV files located.')\n",
    "\n",
    "mortality_df   = pd.read_csv(paths['mortality'])\n",
    "health_exp_df  = pd.read_csv(paths['health_exp'])\n",
    "elec_df        = pd.read_csv(paths['electricity_gdp'])\n",
    "fertility_df   = pd.read_csv(paths['fertility'])"
   ]
  },
  {
   "cell_type": "markdown",
   "id": "063fa4e3",
   "metadata": {},
   "source": [
    "## Inspection for NaN and Usable Years"
   ]
  },
  {
   "cell_type": "code",
   "execution_count": 6,
   "id": "5f34927a",
   "metadata": {},
   "outputs": [
    {
     "name": "stdout",
     "output_type": "stream",
     "text": [
      "        Entity Code  Year  \\\n",
      "0  Afghanistan  AFG  1957   \n",
      "1  Afghanistan  AFG  1958   \n",
      "2  Afghanistan  AFG  1959   \n",
      "3  Afghanistan  AFG  1960   \n",
      "4  Afghanistan  AFG  1961   \n",
      "\n",
      "   Child mortality rate of children aged under five years, per 100 live births  \n",
      "0                                          37.132380                            \n",
      "1                                          36.523033                            \n",
      "2                                          35.951195                            \n",
      "3                                          35.316550                            \n",
      "4                                          34.760840                            \n",
      "      Entity Code  Year  Public health expenditure as a share of GDP\n",
      "0  Argentina  ARG  1880                                          0.0\n",
      "1  Argentina  ARG  1890                                          0.0\n",
      "2  Argentina  ARG  1900                                          0.0\n",
      "3  Argentina  ARG  1910                                          0.0\n",
      "4  Argentina  ARG  1920                                          0.0\n",
      "        Entity Code  Year  Access to electricity (% of population)  \\\n",
      "0  Afghanistan  AFG  2000                                      4.4   \n",
      "1  Afghanistan  AFG  2001                                      9.3   \n",
      "2  Afghanistan  AFG  2002                                     14.1   \n",
      "3  Afghanistan  AFG  2003                                     19.0   \n",
      "4  Afghanistan  AFG  2004                                     23.8   \n",
      "\n",
      "   GDP per capita, PPP (constant 2021 international $)  \\\n",
      "0                                          1617.8264     \n",
      "1                                          1454.1108     \n",
      "2                                          1774.3087     \n",
      "3                                          1815.9282     \n",
      "4                                          1776.9182     \n",
      "\n",
      "  World regions according to OWID  \n",
      "0                             NaN  \n",
      "1                             NaN  \n",
      "2                             NaN  \n",
      "3                             NaN  \n",
      "4                             NaN  \n",
      "        Entity Code  Year  \\\n",
      "0  Afghanistan  AFG  1950   \n",
      "1  Afghanistan  AFG  1951   \n",
      "2  Afghanistan  AFG  1952   \n",
      "3  Afghanistan  AFG  1953   \n",
      "4  Afghanistan  AFG  1954   \n",
      "\n",
      "   Fertility rate - Sex: all - Age: all - Variant: estimates  \\\n",
      "0                                              7.248           \n",
      "1                                              7.260           \n",
      "2                                              7.260           \n",
      "3                                              7.266           \n",
      "4                                              7.254           \n",
      "\n",
      "   Combined - percentage of female adults aged between 25 and 64 years with no education  \\\n",
      "0                                               99.8                                       \n",
      "1                                                NaN                                       \n",
      "2                                                NaN                                       \n",
      "3                                                NaN                                       \n",
      "4                                                NaN                                       \n",
      "\n",
      "   Population (historical) World regions according to OWID  \n",
      "0                7776180.0                             NaN  \n",
      "1                7879343.0                             NaN  \n",
      "2                7987784.0                             NaN  \n",
      "3                8096703.0                             NaN  \n",
      "4                8207954.0                             NaN  \n",
      "\n",
      "NaN counts:\n",
      "Mortality: 618\n",
      "Health: 0\n",
      "Electricity/GDP: 9883\n",
      "Education: 161250\n"
     ]
    }
   ],
   "source": [
    "\n",
    "print(mortality_df.head())\n",
    "print(health_exp_df.head())\n",
    "print(elec_df.head())\n",
    "print(fertility_df.head())\n",
    "\n",
    "print(\"\\nNaN counts:\")\n",
    "print(\"Mortality:\", mortality_df.isna().sum().sum())\n",
    "print(\"Health:\", health_exp_df.isna().sum().sum())\n",
    "print(\"Electricity/GDP:\", elec_df.isna().sum().sum())\n",
    "print(\"Education:\", fertility_df.isna().sum().sum())\n"
   ]
  },
  {
   "cell_type": "markdown",
   "id": "5f41aba6",
   "metadata": {},
   "source": [
    "## Helper Functions"
   ]
  },
  {
   "cell_type": "code",
   "execution_count": 7,
   "id": "2bfb3033",
   "metadata": {},
   "outputs": [],
   "source": [
    "\n",
    "def rmse(y_true, y_pred, sample_weight=None):\n",
    "    return np.sqrt(mean_squared_error(y_true, y_pred, sample_weight=sample_weight))\n",
    "def mae(y_true, y_pred, sample_weight=None):\n",
    "    return mean_absolute_error(y_true, y_pred, sample_weight=sample_weight)\n",
    "def mape(y_true, y_pred, sample_weight=None):\n",
    "    mask = y_true != 0\n",
    "    if sample_weight is not None:\n",
    "        sample_weight = sample_weight[mask]\n",
    "    return np.mean(np.abs((y_true[mask] - y_pred[mask]) / y_true[mask]))\n",
    "\n",
    "r2_scorer   = make_scorer(r2_score, greater_is_better=True)\n",
    "rmse_scorer = make_scorer(rmse, greater_is_better=False)\n",
    "mae_scorer  = make_scorer(mae, greater_is_better=False)\n",
    "mape_scorer = make_scorer(mape, greater_is_better=False)\n",
    "\n",
    "cv = KFold(n_splits=5, shuffle=True, random_state=42)\n",
    "\n",
    "def cv_scores_full(model, X, y, w, fit_param_name=\"reg__sample_weight\"):\n",
    "    out = {}\n",
    "    try:\n",
    "        r2 = cross_val_score(model, X, y, scoring=r2_scorer, cv=cv,\n",
    "                             fit_params={fit_param_name: w})\n",
    "        rm = cross_val_score(model, X, y, scoring=rmse_scorer, cv=cv,\n",
    "                             fit_params={fit_param_name: w})\n",
    "        ma = cross_val_score(model, X, y, scoring=mae_scorer, cv=cv,\n",
    "                             fit_params={fit_param_name: w})\n",
    "        mp = cross_val_score(model, X, y, scoring=mape_scorer, cv=cv,\n",
    "                             fit_params={fit_param_name: w})\n",
    "        out[\"weighted\"] = True\n",
    "    except Exception as e:\n",
    "        r2 = cross_val_score(model, X, y, scoring=r2_scorer, cv=cv)\n",
    "        rm = cross_val_score(model, X, y, scoring=rmse_scorer, cv=cv)\n",
    "        ma = cross_val_score(model, X, y, scoring=mae_scorer, cv=cv)\n",
    "        mp = cross_val_score(model, X, y, scoring=mape_scorer, cv=cv)\n",
    "        out[\"weighted\"] = False\n",
    "        out[\"warning\"] = f\"Weighted CV not supported; fallback to unweighted. ({e})\"\n",
    "    out[\"R2_mean\"], out[\"R2_std\"]     = float(np.mean(r2)), float(np.std(r2))\n",
    "    out[\"RMSE_mean\"], out[\"RMSE_std\"] = float(-np.mean(rm)), float(np.std(rm))\n",
    "    out[\"MAE_mean\"], out[\"MAE_std\"]   = float(-np.mean(ma)), float(np.std(ma))\n",
    "    out[\"MAPE_mean\"], out[\"MAPE_std\"] = float(-np.mean(mp)), float(np.std(mp))\n",
    "    return out\n",
    "\n",
    "def make_models():\n",
    "    pipe_ols = Pipeline([(\"scale\", RobustScaler()), (\"reg\", LinearRegression())])\n",
    "    pipe_ridge = Pipeline([(\"scale\", RobustScaler()), (\"reg\", Ridge(random_state=42))])\n",
    "    pipe_lasso = Pipeline([(\"scale\", RobustScaler()), (\"reg\", Lasso(max_iter=10000, random_state=42))])\n",
    "    pipe_rf = Pipeline([(\"reg\", RandomForestRegressor(random_state=42, n_jobs=-1))])\n",
    "\n",
    "    ridge_grid = GridSearchCV(pipe_ridge, {\"reg__alpha\": np.logspace(-3, 2, 12)}, scoring=r2_scorer, cv=cv, n_jobs=-1)\n",
    "    lasso_grid = GridSearchCV(pipe_lasso, {\"reg__alpha\": np.logspace(-3, 1, 12)}, scoring=r2_scorer, cv=cv, n_jobs=-1)\n",
    "    rf_grid    = GridSearchCV(pipe_rf, {\n",
    "        \"reg__n_estimators\":[200,400],\n",
    "        \"reg__max_depth\":[4,6,8,None],\n",
    "        \"reg__min_samples_leaf\":[1,2,5],\n",
    "        \"reg__max_features\":[\"auto\",\"sqrt\"]\n",
    "    }, scoring=r2_scorer, cv=cv, n_jobs=-1)\n",
    "\n",
    "    return pipe_ols, ridge_grid, lasso_grid, rf_grid\n"
   ]
  },
  {
   "cell_type": "markdown",
   "id": "72f9ab61",
   "metadata": {},
   "source": [
    "## Large Timeframe Prediction (1990–2023)\n",
    "\n",
    "Here we prepare the dataset for 1990–2023 (core predictors only), apply robust scaling, weights, and run OLS, Ridge, Lasso, and Random Forest with cross-validation."
   ]
  },
  {
   "cell_type": "markdown",
   "id": "d2562e97",
   "metadata": {},
   "source": [
    "## Detailed Predictions (1990–2005, Groups 2 & 3)\n",
    "\n",
    "We run four analyses:\n",
    "- Group 2 (Lower-middle) — Core\n",
    "- Group 2 — +Education\n",
    "- Group 3 (Upper-middle) — Core\n",
    "- Group 3 — +Education\n",
    "\n",
    "All with robust scaling, weights, cross-validation, and metrics R², RMSE, MAE, MAPE."
   ]
  }
 ],
 "metadata": {
  "kernelspec": {
   "display_name": "Python 3",
   "language": "python",
   "name": "python3"
  },
  "language_info": {
   "codemirror_mode": {
    "name": "ipython",
    "version": 3
   },
   "file_extension": ".py",
   "mimetype": "text/x-python",
   "name": "python",
   "nbconvert_exporter": "python",
   "pygments_lexer": "ipython3",
   "version": "3.11.8"
  }
 },
 "nbformat": 4,
 "nbformat_minor": 5
}
